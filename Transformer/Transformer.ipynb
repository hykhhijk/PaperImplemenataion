{
 "cells": [
  {
   "cell_type": "markdown",
   "metadata": {},
   "source": [
    "# Import Libraries"
   ]
  },
  {
   "cell_type": "code",
   "execution_count": 1,
   "metadata": {},
   "outputs": [
    {
     "name": "stdout",
     "output_type": "stream",
     "text": [
      "PyTorch version:[1.13.1+cu117].\n",
      "device:[cuda:0].\n"
     ]
    }
   ],
   "source": [
    "import numpy as np\n",
    "import pandas as pd\n",
    "import spacy\n",
    "import matplotlib.pyplot as plt\n",
    "\n",
    "import torch\n",
    "import torch.nn as nn\n",
    "import torch.nn.functional as F\n",
    "import torch.optim as optim\n",
    "\n",
    "print (\"PyTorch version:[%s].\"%(torch.__version__))\n",
    "device = torch.device('cuda:0' if torch.cuda.is_available() else 'cpu')\n",
    "print (\"device:[%s].\"%(device))"
   ]
  },
  {
   "cell_type": "markdown",
   "metadata": {},
   "source": [
    "# Make test data"
   ]
  },
  {
   "cell_type": "code",
   "execution_count": 2,
   "metadata": {},
   "outputs": [],
   "source": [
    "nlp = spacy.load(\"en_core_web_md\")\n",
    "\n",
    "test_data = [\n",
    "    \"This is a positive sentence with good vibes.\",\n",
    "    \"I'm not sure about this, it could be either positive or negative.\",\n",
    "    \"Negative sentiment is evident in this statement.\",\n",
    "    \"The weather is great today!\",\n",
    "]\n",
    "\n",
    "labels = [1, 0, -1, 1]\n",
    "\n",
    "def get_sentence_embedding(sentence):\n",
    "    doc = nlp(sentence)\n",
    "    return np.mean([token.vector for token in doc if token.has_vector], axis=0)"
   ]
  },
  {
   "cell_type": "code",
   "execution_count": 3,
   "metadata": {},
   "outputs": [],
   "source": [
    "X_train = np.array([get_sentence_embedding(sentence) for sentence in test_data])\n",
    "X_train = torch.tensor(X_train)"
   ]
  },
  {
   "cell_type": "markdown",
   "metadata": {},
   "source": [
    "## check data' shape"
   ]
  },
  {
   "cell_type": "code",
   "execution_count": 4,
   "metadata": {},
   "outputs": [
    {
     "name": "stdout",
     "output_type": "stream",
     "text": [
      "X_train's shape: torch.Size([4, 300])\n"
     ]
    }
   ],
   "source": [
    "print(f\"X_train's shape: {X_train.shape}\")"
   ]
  },
  {
   "cell_type": "markdown",
   "metadata": {},
   "source": [
    "# Encoder"
   ]
  },
  {
   "cell_type": "markdown",
   "metadata": {},
   "source": [
    "## MHA"
   ]
  },
  {
   "cell_type": "code",
   "execution_count": 5,
   "metadata": {},
   "outputs": [],
   "source": [
    "class MultiHeadedAttention(nn.Module):\n",
    "    def __init__(self,d_feat=512,n_head=8,actv=F.relu,device=None):\n",
    "        super(MultiHeadedAttention, self).__init__()\n",
    "        self.d_feat = d_feat\n",
    "        self.n_head = n_head    #equal with d_k\n",
    "        self.d_head = d_feat // n_head\n",
    "        if self.d_head % self.n_head !=0:\n",
    "            raise ValueError\n",
    "        self.actv = actv\n",
    "\n",
    "        self.lin_k = nn.Linear(self.d_feat, self.d_feat)\n",
    "        self.lin_q = nn.Linear(self.d_feat, self.d_feat)\n",
    "        self.lin_v = nn.Linear(self.d_feat, self.d_feat)\n",
    "\n",
    "    def forward(self, Q, K, V):\n",
    "\n",
    "        Query = self.lin_q(Q)\n",
    "        Key = self.lin_k(K)\n",
    "        Value = self.lin_v(V)\n",
    "\n",
    "        #입력 쿼리는 n * s * d: batch * sequence_length * embedding length\n",
    "        batch_size = Query.shape[0]\n",
    "        Queries = Query.view(batch_size, self.n_head, -1, self.d_head)\n",
    "        Keys = Key.view(batch_size, self.n_head, -1, self.d_head)\n",
    "        Values = Value.view(batch_size, self.n_head, -1, self.d_head)\n",
    "\n",
    "        attention_score = torch.matmul(Queries, Keys.permute(0,1,3,2))\n",
    "        attention_score = attention_score / np.sqrt(Keys.shape[-1])\n",
    "        attention_score = F.softmax(attention_score, dim = -1)\n",
    "        # attention_score = batch * sequence_length * embedding length\n",
    "\n",
    "        attention_score = torch.matmul(attention_score, Values)\n",
    "        \n",
    "        x = attention_score.permute(0, 2, 1, 3)\n",
    "        x = attention_score.view(batch_size, -1, self.d_feat)\n",
    "\n",
    "        return x"
   ]
  },
  {
   "cell_type": "markdown",
   "metadata": {},
   "source": [
    "## FFN"
   ]
  },
  {
   "cell_type": "code",
   "execution_count": 6,
   "metadata": {},
   "outputs": [],
   "source": [
    "class FeedForwardNetwork(nn.Module):\n",
    "    def __init__(self,d_feat=512,n_head=8,actv=F.relu,device=None):\n",
    "        super(FeedForwardNetwork, self).__init__()\n",
    "        self.d_feat = d_feat\n",
    "        self.actv = actv\n",
    "        self.device = device\n",
    "        self.n_head = n_head\n",
    "\n",
    "        self.linear_1 = nn.Linear(self.d_feat, self.d_feat * 4)  \n",
    "        self.linear_2 = nn.Linear(self.d_feat * 4, self.d_feat)       \n",
    "\n",
    "\n",
    "    \n",
    "    def forward(self, x):\n",
    "        x = self.linear_1(x)\n",
    "        x = self.actv(x)\n",
    "        x = self.linear_2(x)\n",
    "        x = self.actv(x)\n",
    "        \n",
    "        return x"
   ]
  },
  {
   "cell_type": "markdown",
   "metadata": {},
   "source": [
    "## Encoder"
   ]
  },
  {
   "cell_type": "code",
   "execution_count": 7,
   "metadata": {},
   "outputs": [],
   "source": [
    "class Encoder(nn.Module):\n",
    "    def __init__(self, d_feat=512, n_head=8, actv = F.relu, device=None):\n",
    "        super(Encoder, self).__init__()\n",
    "        self.d_feat = d_feat\n",
    "        self.actv = actv\n",
    "        self.device = device\n",
    "        self.n_head = n_head\n",
    "\n",
    "        self.MHA = MultiHeadedAttention(d_feat=self.d_feat, n_head = self.n_head, actv = self.actv, device = self.device)\n",
    "        self.FFN = FeedForwardNetwork(d_feat=self.d_feat, n_head = self.n_head, actv = self.actv, device = self.device)\n",
    "\n",
    "        self.layernorm_1 = nn.LayerNorm(d_feat)\n",
    "        self.layernorm_2 = nn.LayerNorm(d_feat)\n",
    "\n",
    "    def forward(self, x):\n",
    "        output = self.MHA(x, x, x)\n",
    "\n",
    "        x = x + output\n",
    "        x = self.layernorm_1(x)\n",
    "        output = self.FFN(x)\n",
    "        x = x + output\n",
    "        x = self.layernorm_2(x)\n",
    "\n",
    "        return x"
   ]
  },
  {
   "cell_type": "markdown",
   "metadata": {},
   "source": [
    "## Positional encoding"
   ]
  },
  {
   "cell_type": "code",
   "execution_count": 74,
   "metadata": {},
   "outputs": [],
   "source": [
    "def positional_encoding(seq_len, dim):\n",
    "    encoding = np.zeros((seq_len, dim))\n",
    "    for s in range(seq_len):\n",
    "        for d in range(dim):\n",
    "            if d%2==0:\n",
    "                encoding[s,d] = (np.sin(s/(10000**(2*d/dim))))\n",
    "            else:\n",
    "                encoding[s,d] = (np.cos(s/(10000**(2*d/dim))))\n",
    "    return encoding"
   ]
  },
  {
   "cell_type": "code",
   "execution_count": 9,
   "metadata": {},
   "outputs": [],
   "source": [
    "pos_enc = positional_encoding(100, 512)"
   ]
  },
  {
   "cell_type": "code",
   "execution_count": 10,
   "metadata": {},
   "outputs": [
    {
     "data": {
      "text/plain": [
       "<matplotlib.image.AxesImage at 0x7f167a0c8f70>"
      ]
     },
     "execution_count": 10,
     "metadata": {},
     "output_type": "execute_result"
    },
    {
     "data": {
      "image/png": "[encoded data removed]",
      "text/plain": [
       "<Figure size 1600x312.5 with 1 Axes>"
      ]
     },
     "metadata": {},
     "output_type": "display_data"
    }
   ],
   "source": [
    "plt.matshow(pos_enc)"
   ]
  },
  {
   "cell_type": "markdown",
   "metadata": {},
   "source": [
    "## Test encoder"
   ]
  },
  {
   "cell_type": "code",
   "execution_count": 11,
   "metadata": {},
   "outputs": [
    {
     "name": "stdout",
     "output_type": "stream",
     "text": [
      "torch.Size([16, 100, 512])\n"
     ]
    }
   ],
   "source": [
    "x = torch.randn(16, 100, 512)\n",
    "x + torch.from_numpy(positional_encoding(100, 512))\n",
    "encoder = Encoder(d_feat=512, n_head=8, actv=F.relu)\n",
    "y = encoder(x)\n",
    "print(y.shape)"
   ]
  },
  {
   "cell_type": "markdown",
   "metadata": {},
   "source": [
    "# Decoder"
   ]
  },
  {
   "cell_type": "code",
   "execution_count": 17,
   "metadata": {},
   "outputs": [],
   "source": [
    "class MaskedMultiHeadedAtttention(nn.Module):\n",
    "    def __init__(self,d_feat=512,n_head=8,actv=F.relu,device=None):\n",
    "        super(MaskedMultiHeadedAtttention, self).__init__()\n",
    "        self.d_feat = d_feat\n",
    "        self.n_head = n_head    #equal with d_k\n",
    "        self.d_head = d_feat // n_head\n",
    "        if self.d_head % self.n_head !=0:\n",
    "            raise ValueError\n",
    "        self.actv = actv\n",
    "\n",
    "        self.lin_k = nn.Linear(self.d_feat, self.d_feat)\n",
    "        self.lin_q = nn.Linear(self.d_feat, self.d_feat)\n",
    "        self.lin_v = nn.Linear(self.d_feat, self.d_feat)\n",
    "\n",
    "    def forward(self, Q, K, V):\n",
    "\n",
    "        Query = self.lin_q(Q)\n",
    "        Key = self.lin_k(K)\n",
    "        Value = self.lin_v(V)\n",
    "\n",
    "        #입력 쿼리는 n * s * d: batch * sequence_length * embedding length\n",
    "        batch_size = Query.shape[0]\n",
    "        Queries = Query.view(batch_size, self.n_head, -1, self.d_head)\n",
    "        Keys = Key.view(batch_size, self.n_head, -1, self.d_head)\n",
    "        Values = Value.view(batch_size, self.n_head, -1, self.d_head)\n",
    "\n",
    "        attention_score = torch.matmul(Queries, Keys.permute(0,1,3,2))\n",
    "        attention_score = attention_score / np.sqrt(Keys.shape[-1])\n",
    "\n",
    "        ####이 부분에서 위치 이후의 attention값을 지워주어야함\n",
    "        mask = torch.ones(1, 1, attention_score.size(-1), device=attention_score.device)\n",
    "        mask = mask.tril(0).bool()      #주대각성분 아래는 유지 위는 0으로 만듦\n",
    "        attention_score[:, :, ~mask] = float('-inf')\n",
    "\n",
    "        attention_score = F.softmax(attention_score, dim = -1)\n",
    "        # attention_score = batch * sequence_length * embedding length\n",
    "\n",
    "        attention_score = torch.matmul(attention_score, Values)\n",
    "        \n",
    "        x = attention_score.permute(0, 2, 1, 3)\n",
    "        x = attention_score.view(batch_size, -1, self.d_feat)\n",
    "\n",
    "        return x"
   ]
  },
  {
   "cell_type": "code",
   "execution_count": 18,
   "metadata": {},
   "outputs": [],
   "source": [
    "class Decoder(nn.Module):\n",
    "    def __init__(self, d_feat=512, n_head=8, actv = F.relu, device=None):\n",
    "        super(Encoder, self).__init__()\n",
    "        self.d_feat = d_feat\n",
    "        self.actv = actv\n",
    "        self.device = device\n",
    "        self.n_head = n_head\n",
    "\n",
    "        self.MHA = MultiHeadedAttention(d_feat=self.d_feat, n_head = self.n_head, actv = self.actv, device = self.device)\n",
    "        self.FFN = FeedForwardNetwork(d_feat=self.d_feat, n_head = self.n_head, actv = self.actv, device = self.device)\n",
    "\n",
    "        self.layernorm_1 = nn.LayerNorm(d_feat)\n",
    "        self.layernorm_2 = nn.LayerNorm(d_feat)\n",
    "\n",
    "    def forward(self, x):\n",
    "        output = self.MHA(x, x, x)\n",
    "\n",
    "        x = x + output\n",
    "        x = self.layernorm_1(x)\n",
    "        output = self.FFN(x)\n",
    "        x = x + output\n",
    "        x = self.layernorm_2(x)\n",
    "\n",
    "        return x"
   ]
  },
  {
   "cell_type": "markdown",
   "metadata": {},
   "source": [
    "# Make encoder, decoder"
   ]
  },
  {
   "cell_type": "code",
   "execution_count": 84,
   "metadata": {},
   "outputs": [],
   "source": [
    "class Encoder_Module(nn.Module):\n",
    "    def __init__(self, seq_len=100, d_feat=512, n_head=8, actv = F.relu, device=None):\n",
    "        super(Encoder_Module, self).__init__()\n",
    "        self.emb = positional_encoding(seq_len, d_feat)\n",
    "        \n",
    "        self.encoders = [Encoder(d_feat=d_feat, n_head=n_head, actv=actv, device=device)\n",
    "                         for _ in range(8)]\n",
    "        \n",
    "    def forward(self, x):\n",
    "        emb = self.emb\n",
    "        emb = torch.tensor(emb, dtype=x.dtype)\n",
    "        x = emb + x\n",
    "        for encoder in self.encoders:\n",
    "            x = encoder(x)\n",
    "        return x"
   ]
  },
  {
   "cell_type": "code",
   "execution_count": null,
   "metadata": {},
   "outputs": [],
   "source": [
    "class Decoder_Module(nn.Module):\n",
    "    def __init__(self, seq_len=100, d_feat=512, n_head=8, actv = F.relu, device=None):\n",
    "        super(Encoder_Module, self).__init__()\n",
    "        self.emb = positional_encoding(seq_len, d_feat)\n",
    "        \n",
    "        self.encoders = [Decoder(d_feat=d_feat, n_head=n_head, actv=actv, device=device)\n",
    "                         for _ in range(8)]\n",
    "        \n",
    "    def forward(self, x):\n",
    "        emb = self.emb\n",
    "        emb = torch.tensor(emb, dtype=x.dtype)\n",
    "        x = emb + x\n",
    "        for encoder in self.encoders:\n",
    "            x = encoder(x)\n",
    "        return x"
   ]
  },
  {
   "cell_type": "code",
   "execution_count": 85,
   "metadata": {},
   "outputs": [],
   "source": [
    "class Encoder(nn.Module):\n",
    "    def __init__(self, d_feat=512, n_head=8, actv = F.relu, device=None):\n",
    "        super(Encoder, self).__init__()\n",
    "        self.d_feat = d_feat\n",
    "        self.actv = actv\n",
    "        self.device = device\n",
    "        self.n_head = n_head\n",
    "\n",
    "        self.MHA = MultiHeadedAttention(d_feat=self.d_feat, n_head = self.n_head, actv = self.actv, device = self.device)\n",
    "        self.FFN = FeedForwardNetwork(d_feat=self.d_feat, n_head = self.n_head, actv = self.actv, device = self.device)\n",
    "\n",
    "        self.layernorm_1 = nn.LayerNorm(d_feat)\n",
    "        self.layernorm_2 = nn.LayerNorm(d_feat)\n",
    "\n",
    "    def forward(self, x):\n",
    "        output = self.MHA(x, x, x)\n",
    "\n",
    "        x = x + output\n",
    "        x = self.layernorm_1(x)\n",
    "        output = self.FFN(x)\n",
    "        x = x + output\n",
    "        x = self.layernorm_2(x)\n",
    "\n",
    "        return x"
   ]
  },
  {
   "cell_type": "code",
   "execution_count": 86,
   "metadata": {},
   "outputs": [],
   "source": [
    "encoder = Encoder_Module(d_feat=512,n_head=8, device=device)"
   ]
  },
  {
   "cell_type": "code",
   "execution_count": 87,
   "metadata": {},
   "outputs": [
    {
     "name": "stdout",
     "output_type": "stream",
     "text": [
      "torch.Size([16, 100, 512])\n"
     ]
    }
   ],
   "source": [
    "output = encoder(torch.randn(16, 100, 512))\n",
    "print(output.shape)\n"
   ]
  },
  {
   "cell_type": "markdown",
   "metadata": {},
   "source": [
    "## Data test"
   ]
  },
  {
   "cell_type": "code",
   "execution_count": 65,
   "metadata": {},
   "outputs": [],
   "source": [
    "encoder = Encoder(d_feat=512,n_head=8, device=device)\n",
    "output = encoder(torch.randn(16, 100, 512))"
   ]
  },
  {
   "cell_type": "code",
   "execution_count": 15,
   "metadata": {},
   "outputs": [
    {
     "data": {
      "text/plain": [
       "torch.Size([16, 512, 512])"
      ]
     },
     "execution_count": 15,
     "metadata": {},
     "output_type": "execute_result"
    }
   ],
   "source": [
    "output.shape"
   ]
  },
  {
   "cell_type": "code",
   "execution_count": 16,
   "metadata": {},
   "outputs": [
    {
     "data": {
      "text/plain": [
       "torch.Size([2, 512])"
      ]
     },
     "execution_count": 16,
     "metadata": {},
     "output_type": "execute_result"
    }
   ],
   "source": [
    "torch.randn(2, 512).shape"
   ]
  },
  {
   "cell_type": "markdown",
   "metadata": {},
   "source": []
  }
 ],
 "metadata": {
  "kernelspec": {
   "display_name": "Python 3",
   "language": "python",
   "name": "python3"
  },
  "language_info": {
   "codemirror_mode": {
    "name": "ipython",
    "version": 3
   },
   "file_extension": ".py",
   "mimetype": "text/x-python",
   "name": "python",
   "nbconvert_exporter": "python",
   "pygments_lexer": "ipython3",
   "version": "3.9.15"
  }
 },
 "nbformat": 4,
 "nbformat_minor": 2
}
