{
 "cells": [
  {
   "cell_type": "markdown",
   "metadata": {},
   "source": [
    "# Import Libraries"
   ]
  },
  {
   "cell_type": "code",
   "execution_count": 11,
   "metadata": {},
   "outputs": [
    {
     "name": "stdout",
     "output_type": "stream",
     "text": [
      "PyTorch version:[1.13.1+cu117].\n",
      "device:[cuda:0].\n"
     ]
    }
   ],
   "source": [
    "import numpy as np\n",
    "import pandas as pd\n",
    "import spacy\n",
    "\n",
    "import torch\n",
    "import torch.nn as nn\n",
    "import torch.nn.functional as F\n",
    "import torch.optim as optim\n",
    "\n",
    "print (\"PyTorch version:[%s].\"%(torch.__version__))\n",
    "device = torch.device('cuda:0' if torch.cuda.is_available() else 'cpu')\n",
    "print (\"device:[%s].\"%(device))"
   ]
  },
  {
   "cell_type": "markdown",
   "metadata": {},
   "source": [
    "# Make test data"
   ]
  },
  {
   "cell_type": "code",
   "execution_count": 38,
   "metadata": {},
   "outputs": [],
   "source": [
    "nlp = spacy.load(\"en_core_web_md\")\n",
    "\n",
    "test_data = [\n",
    "    \"This is a positive sentence with good vibes.\",\n",
    "    \"I'm not sure about this, it could be either positive or negative.\",\n",
    "    \"Negative sentiment is evident in this statement.\",\n",
    "    \"The weather is great today!\",\n",
    "]\n",
    "\n",
    "labels = [1, 0, -1, 1]\n",
    "\n",
    "def get_sentence_embedding(sentence):\n",
    "    doc = nlp(sentence)\n",
    "    return np.mean([token.vector for token in doc if token.has_vector], axis=0)"
   ]
  },
  {
   "cell_type": "code",
   "execution_count": 42,
   "metadata": {},
   "outputs": [],
   "source": [
    "X_train = np.array([get_sentence_embedding(sentence) for sentence in test_data])"
   ]
  },
  {
   "cell_type": "markdown",
   "metadata": {},
   "source": [
    "## check data' shape"
   ]
  },
  {
   "cell_type": "code",
   "execution_count": 51,
   "metadata": {},
   "outputs": [
    {
     "name": "stdout",
     "output_type": "stream",
     "text": [
      "X_train's shape: (4, 300)\n"
     ]
    }
   ],
   "source": [
    "print(f\"X_train's shape: {X_train.shape}\")"
   ]
  },
  {
   "cell_type": "markdown",
   "metadata": {},
   "source": [
    "# Transformer"
   ]
  },
  {
   "cell_type": "markdown",
   "metadata": {},
   "source": [
    "## MHA"
   ]
  },
  {
   "cell_type": "code",
   "execution_count": 2,
   "metadata": {},
   "outputs": [
    {
     "ename": "NameError",
     "evalue": "name 'nn' is not defined",
     "output_type": "error",
     "traceback": [
      "\u001b[0;31m---------------------------------------------------------------------------\u001b[0m",
      "\u001b[0;31mNameError\u001b[0m                                 Traceback (most recent call last)",
      "\u001b[1;32m/mnt/d/Codes/Paper/Transformer/Transformet.ipynb Cell 10\u001b[0m line \u001b[0;36m1\n\u001b[0;32m----> <a href='vscode-notebook-cell://wsl%2Bubuntu/mnt/d/Codes/Paper/Transformer/Transformet.ipynb#X12sdnNjb2RlLXJlbW90ZQ%3D%3D?line=0'>1</a>\u001b[0m \u001b[39mclass\u001b[39;00m \u001b[39mMultiHeadedAttention\u001b[39;00m(nn\u001b[39m.\u001b[39mModule):\n\u001b[1;32m      <a href='vscode-notebook-cell://wsl%2Bubuntu/mnt/d/Codes/Paper/Transformer/Transformet.ipynb#X12sdnNjb2RlLXJlbW90ZQ%3D%3D?line=1'>2</a>\u001b[0m     \u001b[39mdef\u001b[39;00m \u001b[39m__init__\u001b[39m(\u001b[39mself\u001b[39m,d_feat\u001b[39m=\u001b[39m\u001b[39m300\u001b[39m,n_head\u001b[39m=\u001b[39m\u001b[39m5\u001b[39m,actv\u001b[39m=\u001b[39mF\u001b[39m.\u001b[39mrelu,device\u001b[39m=\u001b[39m\u001b[39mNone\u001b[39;00m):\n\u001b[1;32m      <a href='vscode-notebook-cell://wsl%2Bubuntu/mnt/d/Codes/Paper/Transformer/Transformet.ipynb#X12sdnNjb2RlLXJlbW90ZQ%3D%3D?line=3'>4</a>\u001b[0m         \u001b[39msuper\u001b[39m(MultiHeadedAttention, \u001b[39mself\u001b[39m)\u001b[39m.\u001b[39m\u001b[39m__init__\u001b[39m()\n",
      "\u001b[0;31mNameError\u001b[0m: name 'nn' is not defined"
     ]
    }
   ],
   "source": [
    "class MultiHeadedAttention(nn.Module):\n",
    "    def __init__(self,d_feat=300,n_head=5,actv=F.relu,device=None):\n",
    "\n",
    "        super(MultiHeadedAttention, self).__init__()\n",
    "        self.d_feat = d_feat\n",
    "        self.n_head = n_head    #equal with d_k\n",
    "        self.d_head = d_feat // n_head\n",
    "        if self.d_head % self.n_head !=0:\n",
    "            raise ValueError\n",
    "        self.actv = actv\n",
    "\n",
    "        self.lin_k = nn.Linear(self.d_feat, self.d_feat)\n",
    "        self.lin_q = nn.Linear(self.d_feat, self.d_feat)\n",
    "        self.lin_v = nn.Linear(self.d_feat, self.d_feat)\n",
    "\n",
    "    def forward(self, Q, K, V):\n",
    "\n",
    "        Query = self.lin_q(Q)\n",
    "        Key = self.lin_k(K)\n",
    "        Value = self.lin_v(V)\n",
    "\n",
    "        #입력 쿼리는 n * s * d: batch * sequence_length * embedding length\n",
    "        batch_size = Query.shape[0]\n",
    "        Queries = Query.view(batch_size, -1, self.d_head, self.d_feat)\n",
    "        Keys = Key.view(batch_size, -1, self.d_head, self.d_feat)\n",
    "        Values = Value.view(batch_size, -1, self.d_head, self.d_feat)\n",
    "\n",
    "        attention_score = torch.mat(Queries, torch.permute(Keys, 0, 1, 3, 2))\n",
    "        attention_score = (attention_score / self.n_head) * Value\n",
    "        attention_score = F.softmax(attention_score, dim = 0)\n",
    "\n",
    "        "
   ]
  },
  {
   "cell_type": "code",
   "execution_count": 76,
   "metadata": {},
   "outputs": [
    {
     "data": {
      "text/plain": [
       "tensor([[[21., 21., 21., 21., 21.]],\n",
       "\n",
       "        [[21., 21., 21., 21., 21.]],\n",
       "\n",
       "        [[21., 21., 21., 21., 21.]],\n",
       "\n",
       "        [[21., 21., 21., 21., 21.]]])"
      ]
     },
     "execution_count": 76,
     "metadata": {},
     "output_type": "execute_result"
    }
   ],
   "source": [
    "torch.matmul(torch.tensor([[[1.,2.,3.,4.,5.,6.]]]),torch.ones(4, 6, 5))"
   ]
  },
  {
   "cell_type": "code",
   "execution_count": 74,
   "metadata": {},
   "outputs": [
    {
     "data": {
      "text/plain": [
       "torch.Size([4, 6, 5])"
      ]
     },
     "execution_count": 74,
     "metadata": {},
     "output_type": "execute_result"
    }
   ],
   "source": [
    "torch.ones(4, 6, 5).shape"
   ]
  }
 ],
 "metadata": {
  "kernelspec": {
   "display_name": "Python 3",
   "language": "python",
   "name": "python3"
  },
  "language_info": {
   "codemirror_mode": {
    "name": "ipython",
    "version": 3
   },
   "file_extension": ".py",
   "mimetype": "text/x-python",
   "name": "python",
   "nbconvert_exporter": "python",
   "pygments_lexer": "ipython3",
   "version": "3.9.15"
  }
 },
 "nbformat": 4,
 "nbformat_minor": 2
}
