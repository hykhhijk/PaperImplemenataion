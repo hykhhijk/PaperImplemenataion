{
 "cells": [
  {
   "cell_type": "code",
   "execution_count": 1,
   "id": "8f04e058",
   "metadata": {
    "ExecuteTime": {
     "end_time": "2023-04-09T14:23:07.212913Z",
     "start_time": "2023-04-09T14:23:06.269841Z"
    }
   },
   "outputs": [
    {
     "name": "stdout",
     "output_type": "stream",
     "text": [
      "cuda:0\n"
     ]
    }
   ],
   "source": [
    "import torch\n",
    "import torch.nn as nn\n",
    "import torch.optim as optim\n",
    "import torch.nn.functional as F\n",
    "import torchvision\n",
    "from torchvision import datasets,transforms\n",
    "import matplotlib.pyplot as plt\n",
    "from torchsummary import summary\n",
    "\n",
    "import numpy as np\n",
    "device = torch.device('cuda:0' if torch.cuda.is_available() else 'cpu')\n",
    "print(device)"
   ]
  },
  {
   "cell_type": "markdown",
   "id": "6ec0613a",
   "metadata": {},
   "source": [
    "# Define Model"
   ]
  },
  {
   "cell_type": "markdown",
   "id": "b7657675",
   "metadata": {},
   "source": [
    "## Discriminator"
   ]
  },
  {
   "cell_type": "code",
   "execution_count": 89,
   "id": "9a5eccf3",
   "metadata": {},
   "outputs": [],
   "source": [
    "class Maxout(nn.Module):\n",
    "    def __init__(self, input_dim=784, output_dim=784,  k=3):\n",
    "        super(Maxout, self).__init__()\n",
    "        self.input_dim = input_dim\n",
    "        self.output_dim = output_dim\n",
    "        self.k = k                                                          #[batch, input_dim]\n",
    "        self.linear = nn.Linear(self.input_dim, self.output_dim * k)        #[batch, output_dim * k]\n",
    "        # self.max = nn.MaxPool1d(self.input_dim)       #안쓰는게 효율 더 좋을듯\n",
    "\n",
    "    def forward(self, x):\n",
    "        self.input_size = x.size()\n",
    "        x = self.linear(x)                                          #below: reshape to [batch, k, output_dim] -> [batch, k], like maxpool from k\n",
    "        # print(x.view(-1, self.output_dim, self.k)[0][0])          uncomment here for check value                        \n",
    "        # print(x.view(-1, self.output_dim, self.k)[0][1])                                       \n",
    "        x = x.view(-1, self.output_dim, self.k).max(dim=2)[0]       #not 0 index for ignore index of max method\n",
    "        return x\n",
    "    #from https://github.com/junhoseo0/pytorch-gan/blob/master/Maxout.py"
   ]
  },
  {
   "cell_type": "code",
   "execution_count": 90,
   "id": "d9bf562f",
   "metadata": {},
   "outputs": [
    {
     "name": "stdout",
     "output_type": "stream",
     "text": [
      "torch.Size([16, 25])\n",
      "torch.Size([16, 10])\n",
      "tensor([0.7198, 0.4351, 1.2490, 1.0597, 0.6707, 0.2948, 0.0484, 0.9716, 0.9383,\n",
      "        0.8234], grad_fn=<SelectBackward0>)\n"
     ]
    }
   ],
   "source": [
    "maxout = Maxout(input_dim=25, output_dim=10)\n",
    "rand_num = torch.randn(16, 25)\n",
    "print(rand_num.shape)\n",
    "result = maxout(rand_num)\n",
    "print(result.shape)\n",
    "print(result[0])"
   ]
  }
 ],
 "metadata": {
  "kernelspec": {
   "display_name": "Python 3 (ipykernel)",
   "language": "python",
   "name": "python3"
  },
  "language_info": {
   "codemirror_mode": {
    "name": "ipython",
    "version": 3
   },
   "file_extension": ".py",
   "mimetype": "text/x-python",
   "name": "python",
   "nbconvert_exporter": "python",
   "pygments_lexer": "ipython3",
   "version": "3.9.15"
  },
  "toc": {
   "base_numbering": 1,
   "nav_menu": {},
   "number_sections": true,
   "sideBar": true,
   "skip_h1_title": false,
   "title_cell": "Table of Contents",
   "title_sidebar": "Contents",
   "toc_cell": false,
   "toc_position": {
    "height": "calc(100% - 180px)",
    "left": "10px",
    "top": "150px",
    "width": "426.667px"
   },
   "toc_section_display": true,
   "toc_window_display": false
  },
  "varInspector": {
   "cols": {
    "lenName": 16,
    "lenType": 16,
    "lenVar": 40
   },
   "kernels_config": {
    "python": {
     "delete_cmd_postfix": "",
     "delete_cmd_prefix": "del ",
     "library": "var_list.py",
     "varRefreshCmd": "print(var_dic_list())"
    },
    "r": {
     "delete_cmd_postfix": ") ",
     "delete_cmd_prefix": "rm(",
     "library": "var_list.r",
     "varRefreshCmd": "cat(var_dic_list()) "
    }
   },
   "types_to_exclude": [
    "module",
    "function",
    "builtin_function_or_method",
    "instance",
    "_Feature"
   ],
   "window_display": false
  }
 },
 "nbformat": 4,
 "nbformat_minor": 5
}
